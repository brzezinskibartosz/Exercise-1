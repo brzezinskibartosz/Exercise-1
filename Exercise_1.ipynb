{
 "cells": [
  {
   "cell_type": "code",
   "execution_count": 6,
   "metadata": {},
   "outputs": [],
   "source": [
    "name = 'Bartosz Brzeziński'"
   ]
  },
  {
   "cell_type": "code",
   "execution_count": 7,
   "metadata": {},
   "outputs": [],
   "source": [
    "iceCreamRating = 9"
   ]
  },
  {
   "cell_type": "code",
   "execution_count": 8,
   "metadata": {},
   "outputs": [],
   "source": [
    "sleepingIndex = 0.90"
   ]
  },
  {
   "cell_type": "code",
   "execution_count": 9,
   "metadata": {},
   "outputs": [
    {
     "name": "stdout",
     "output_type": "stream",
     "text": [
      "My name is Bartosz Brzeziński and I give eating ice cream a score of 9 out of 10!\n"
     ]
    }
   ],
   "source": [
    "print ()"
   ]
  },
  {
   "cell_type": "code",
   "execution_count": 13,
   "metadata": {},
   "outputs": [
    {
     "name": "stdout",
     "output_type": "stream",
     "text": [
      "My name is Bartosz Brzeziński and I give eating ice cream a score of 9 out of 10!\n"
     ]
    }
   ],
   "source": [
    "#setting variables\n",
    "name = 'Bartosz Brzeziński'\n",
    "iceCreamRating = 9\n",
    "sleepingIndex = 0.90\n",
    "def firtsStatement(name, iceCreamRating, sleepingIndex):\n",
    "  print('My name is',name, 'and I give eating ice cream a score of',str(iceCreamRating), 'out of 10!')\n",
    "firtsStatement(name,iceCreamRating,sleepingIndex)"
   ]
  },
  {
   "cell_type": "code",
   "execution_count": null,
   "metadata": {},
   "outputs": [],
   "source": []
  }
 ],
 "metadata": {
  "kernelspec": {
   "display_name": "Python 3",
   "language": "python",
   "name": "python3"
  },
  "language_info": {
   "codemirror_mode": {
    "name": "ipython",
    "version": 3
   },
   "file_extension": ".py",
   "mimetype": "text/x-python",
   "name": "python",
   "nbconvert_exporter": "python",
   "pygments_lexer": "ipython3",
   "version": "3.6.7"
  }
 },
 "nbformat": 4,
 "nbformat_minor": 2
}
